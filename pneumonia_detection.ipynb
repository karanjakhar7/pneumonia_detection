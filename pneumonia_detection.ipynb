{
  "nbformat": 4,
  "nbformat_minor": 0,
  "metadata": {
    "colab": {
      "name": "pneumonia_detection.ipynb",
      "provenance": []
    },
    "kernelspec": {
      "name": "python3",
      "display_name": "Python 3"
    },
    "accelerator": "GPU"
  },
  "cells": [
    {
      "cell_type": "code",
      "metadata": {
        "id": "S_rOon-iQE92"
      },
      "source": [
        "!pip install -q kaggle"
      ],
      "execution_count": 8,
      "outputs": []
    },
    {
      "cell_type": "code",
      "metadata": {
        "id": "IDjWh4YLQh6T",
        "outputId": "3b3c679f-8d7f-4ed6-bfba-4c0ac51e0ad9",
        "colab": {
          "resources": {
            "http://localhost:8080/nbextensions/google.colab/files.js": {
              "data": "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",
              "ok": true,
              "headers": [
                [
                  "content-type",
                  "application/javascript"
                ]
              ],
              "status": 200,
              "status_text": ""
            }
          },
          "base_uri": "https://localhost:8080/",
          "height": 90
        }
      },
      "source": [
        "from google.colab import files\n",
        "files.upload()"
      ],
      "execution_count": 9,
      "outputs": [
        {
          "output_type": "display_data",
          "data": {
            "text/html": [
              "\n",
              "     <input type=\"file\" id=\"files-294185d7-145e-4b81-a0b1-2e178aae2760\" name=\"files[]\" multiple disabled\n",
              "        style=\"border:none\" />\n",
              "     <output id=\"result-294185d7-145e-4b81-a0b1-2e178aae2760\">\n",
              "      Upload widget is only available when the cell has been executed in the\n",
              "      current browser session. Please rerun this cell to enable.\n",
              "      </output>\n",
              "      <script src=\"/nbextensions/google.colab/files.js\"></script> "
            ],
            "text/plain": [
              "<IPython.core.display.HTML object>"
            ]
          },
          "metadata": {
            "tags": []
          }
        },
        {
          "output_type": "stream",
          "text": [
            "Saving kaggle.json to kaggle.json\n"
          ],
          "name": "stdout"
        },
        {
          "output_type": "execute_result",
          "data": {
            "text/plain": [
              "{'kaggle.json': b'{\"username\":\"karanjakhar7\",\"key\":\"47816b57144e556869c9fb93c9b3a9d5\"}'}"
            ]
          },
          "metadata": {
            "tags": []
          },
          "execution_count": 9
        }
      ]
    },
    {
      "cell_type": "code",
      "metadata": {
        "id": "e4XJR2OQQg3c",
        "outputId": "5af04413-4366-4c6e-bf7a-76d7da0fd1dc",
        "colab": {
          "base_uri": "https://localhost:8080/",
          "height": 34
        }
      },
      "source": [
        "! mkdir ~/.kaggle"
      ],
      "execution_count": 10,
      "outputs": [
        {
          "output_type": "stream",
          "text": [
            "mkdir: cannot create directory ‘/root/.kaggle’: File exists\n"
          ],
          "name": "stdout"
        }
      ]
    },
    {
      "cell_type": "code",
      "metadata": {
        "id": "HncoQJEwRH8k"
      },
      "source": [
        "! cp kaggle.json ~/.kaggle/"
      ],
      "execution_count": 11,
      "outputs": []
    },
    {
      "cell_type": "code",
      "metadata": {
        "id": "0Xk6gu32EZhF"
      },
      "source": [
        " ! chmod 600 ~/.kaggle/kaggle.json"
      ],
      "execution_count": 12,
      "outputs": []
    },
    {
      "cell_type": "code",
      "metadata": {
        "id": "ctIDWgw5EqSo",
        "outputId": "26af6fba-abd5-4983-9004-da5038343b9e",
        "colab": {
          "base_uri": "https://localhost:8080/",
          "height": 423
        }
      },
      "source": [
        "! kaggle datasets list"
      ],
      "execution_count": 13,
      "outputs": [
        {
          "output_type": "stream",
          "text": [
            "Warning: Looks like you're using an outdated API Version, please consider updating (server 1.5.6 / client 1.5.4)\n",
            "ref                                                               title                                                 size  lastUpdated          downloadCount  \n",
            "----------------------------------------------------------------  --------------------------------------------------  ------  -------------------  -------------  \n",
            "christianlillelund/donald-trumps-rallies                          Donald Trump's Rallies                               720KB  2020-09-26 10:25:08            382  \n",
            "heeraldedhia/groceries-dataset                                    Groceries dataset                                    257KB  2020-09-17 04:36:08           2237  \n",
            "andrewmvd/trip-advisor-hotel-reviews                              Trip Advisor Hotel Reviews                             5MB  2020-09-30 08:31:20           1310  \n",
            "balraj98/stanford-background-dataset                              Stanford Background Dataset                           17MB  2020-09-26 12:57:59            147  \n",
            "nehaprabhavalkar/indian-food-101                                  Indian Food 101                                        7KB  2020-09-30 06:23:43           1792  \n",
            "jilkothari/finance-accounting-courses-udemy-13k-course            Finance & Accounting Courses - Udemy (13K+ course)  1000KB  2020-09-17 12:46:12            596  \n",
            "balraj98/massachusetts-roads-dataset                              Massachusetts Roads Dataset                            6GB  2020-09-26 03:57:49            123  \n",
            "arslanali4343/top-personality-dataset                             Top Personality Dataset                                9MB  2020-09-27 21:25:45            650  \n",
            "oldaandozerskaya/fiction-corpus-for-agebased-text-classification  RusAge: Corpus for Age-Based Text Classification     509MB  2020-09-28 09:30:12             34  \n",
            "gpreda/chinese-mnist                                              Chinese MNIST                                         10MB  2020-08-05 12:36:00            235  \n",
            "gpreda/local-elections-romania-2020                               Local Elections Romania 2020                          28MB  2020-09-27 20:46:11             95  \n",
            "anth7310/mental-health-in-the-tech-industry                       Mental Health in the Tech Industry                     2MB  2020-09-27 11:17:23            979  \n",
            "roshansharma/sanfranciso-crime-dataset                            Sanfranciso Crime Dataset                              6MB  2019-05-29 12:45:44           3674  \n",
            "bppuneethpai/tldr-summary-for-man-pages                           TLDR summary for man pages                             8MB  2020-09-25 09:50:10             23  \n",
            "sterby/german-recipes-dataset                                     German Recipes Dataset                                 5MB  2019-03-06 16:25:22            828  \n",
            "arslanali4343/real-estate-dataset                                 Real Estate DataSet                                   12KB  2020-09-28 21:25:33            800  \n",
            "leangab/poe-short-stories-corpuscsv                               E.A. Poe's corpus of short stories                   725KB  2020-09-28 11:43:08             88  \n",
            "thomaskonstantin/top-270-rated-computer-science-programing-books  Top 270 Computer Science / Programing Books           45KB  2020-09-28 16:47:12            359  \n",
            "anmolkumar/health-insurance-cross-sell-prediction                 Health Insurance Cross Sell Prediction 🏠 🏥             6MB  2020-09-11 18:39:31           4015  \n",
            "ramjidoolla/ipl-data-set                                          IPL _Data_Set                                          1MB  2020-09-14 10:57:42           3622  \n"
          ],
          "name": "stdout"
        }
      ]
    },
    {
      "cell_type": "code",
      "metadata": {
        "id": "3MFj_m_TEsvJ",
        "outputId": "8cd0a877-d3d6-496e-fd51-ad54d4f006b3",
        "colab": {
          "base_uri": "https://localhost:8080/",
          "height": 67
        }
      },
      "source": [
        "! kaggle datasets download -d paultimothymooney/chest-xray-pneumonia"
      ],
      "execution_count": 14,
      "outputs": [
        {
          "output_type": "stream",
          "text": [
            "Downloading chest-xray-pneumonia.zip to /content\n",
            " 99% 2.28G/2.29G [00:27<00:00, 190MB/s]\n",
            "100% 2.29G/2.29G [00:28<00:00, 87.6MB/s]\n"
          ],
          "name": "stdout"
        }
      ]
    },
    {
      "cell_type": "code",
      "metadata": {
        "id": "XpGbTQlcFGe0"
      },
      "source": [
        "! mkdir train"
      ],
      "execution_count": 15,
      "outputs": []
    },
    {
      "cell_type": "code",
      "metadata": {
        "id": "lNtVfB9aFT38"
      },
      "source": [
        "! unzip chest-xray-pneumonia.zip -d train"
      ],
      "execution_count": null,
      "outputs": []
    },
    {
      "cell_type": "code",
      "metadata": {
        "id": "DfICULYZFWIJ"
      },
      "source": [
        "import tensorflow as tf\n",
        "from tensorflow import keras\n",
        "import matplotlib.pyplot as plt\n",
        "import os"
      ],
      "execution_count": 17,
      "outputs": []
    },
    {
      "cell_type": "code",
      "metadata": {
        "id": "t2bCLPyNG9I6"
      },
      "source": [
        "from tensorflow.keras.preprocessing.image import ImageDataGenerator"
      ],
      "execution_count": 18,
      "outputs": []
    },
    {
      "cell_type": "code",
      "metadata": {
        "id": "jC0T4xpAHQGL"
      },
      "source": [
        "base_dir = '/content/train/chest_xray'"
      ],
      "execution_count": 19,
      "outputs": []
    },
    {
      "cell_type": "code",
      "metadata": {
        "id": "6jkt1VrOJGHv"
      },
      "source": [
        "train_dir = os.path.join(base_dir , 'train')\n",
        "val_dir = os.path.join(base_dir, 'val')"
      ],
      "execution_count": 20,
      "outputs": []
    },
    {
      "cell_type": "code",
      "metadata": {
        "id": "kjKwAfHGJXy3"
      },
      "source": [
        "train_datagen = ImageDataGenerator(rescale = 1./255.)\n",
        "\n",
        "val_datagen = ImageDataGenerator(rescale = 1./255.)"
      ],
      "execution_count": 44,
      "outputs": []
    },
    {
      "cell_type": "code",
      "metadata": {
        "id": "6-KgkbyoKE2t",
        "outputId": "33bbf65e-b2ae-4f51-e7b1-5581ab5bcfc3",
        "colab": {
          "base_uri": "https://localhost:8080/",
          "height": 50
        }
      },
      "source": [
        "train_generator = train_datagen.flow_from_directory(\n",
        "    train_dir,\n",
        "    batch_size = 20,\n",
        "    class_mode = 'binary',\n",
        "    target_size = (300,300))\n",
        "\n",
        "val_generator  = val_datagen.flow_from_directory(\n",
        "    val_dir,\n",
        "    batch_size = 20,\n",
        "    class_mode = 'binary',\n",
        "    target_size = (300,300))"
      ],
      "execution_count": 45,
      "outputs": [
        {
          "output_type": "stream",
          "text": [
            "Found 5216 images belonging to 2 classes.\n",
            "Found 16 images belonging to 2 classes.\n"
          ],
          "name": "stdout"
        }
      ]
    },
    {
      "cell_type": "code",
      "metadata": {
        "id": "_gYr0R9WKvSm"
      },
      "source": [
        "model = keras.Sequential([\n",
        "                          keras.layers.Conv2D(16, kernel_size=(3,3), activation='relu'),\n",
        "                          keras.layers.MaxPooling2D(2,2),\n",
        "\n",
        "                          keras.layers.Conv2D(32, kernel_size=(3,3), activation='relu'),\n",
        "                          keras.layers.MaxPooling2D(2,2),\n",
        "\n",
        "                          keras.layers.Conv2D(32, kernel_size=(3,3), activation='relu'),\n",
        "                          keras.layers.MaxPooling2D(2,2),\n",
        "                          keras.layers.Dropout(0.2),\n",
        "\n",
        "                          keras.layers.Conv2D(64, kernel_size=(3,3), activation='relu'),\n",
        "                          keras.layers.MaxPooling2D(2,2),\n",
        "                          keras.layers.Dropout(0.2),\n",
        "\n",
        "                          keras.layers.Conv2D(64, kernel_size=(3,3), activation='relu'),\n",
        "                          keras.layers.MaxPooling2D(2,2),\n",
        "\n",
        "                          keras.layers.Flatten(),\n",
        "\n",
        "                          keras.layers.Dense(512, activation='relu'),\n",
        "                          # keras.layers.Dropout(0.2),\n",
        "                          # keras.layers.Dense(10, activation = 'relu'),\n",
        "                          keras.layers.Dense(1, activation='sigmoid')\n",
        "])"
      ],
      "execution_count": 50,
      "outputs": []
    },
    {
      "cell_type": "code",
      "metadata": {
        "id": "JEb3pMDCM_v1"
      },
      "source": [
        "opt = keras.optimizers.Adam(0.0002)\n",
        "model.compile(optimizer = opt, loss= 'binary_crossentropy', metrics=['accuracy'])"
      ],
      "execution_count": 51,
      "outputs": []
    },
    {
      "cell_type": "code",
      "metadata": {
        "id": "NkMhSbom0wXy"
      },
      "source": [
        "# import other libs as needed for building model\n",
        "from tensorflow.keras.callbacks import ModelCheckpoint\n",
        "\n",
        "# add a checkpoint to save the lowest validation loss\n",
        "filepath = 'saved_model.hdf5'\n",
        "\n",
        "checkpoint = ModelCheckpoint(filepath, monitor='val_accuracy', verbose=1,\n",
        "                             save_best_only=True, save_weights_only=False,\n",
        "                             mode='auto', save_frequency=1)"
      ],
      "execution_count": 48,
      "outputs": []
    },
    {
      "cell_type": "code",
      "metadata": {
        "id": "cHBAPGZ_6-5u"
      },
      "source": [
        "ACCURACY_THRESHOLD = 0.98\n",
        "\n",
        "class myCallback(tf.keras.callbacks.Callback): \n",
        "    def on_epoch_end(self, epoch, logs={}): \n",
        "        if(logs.get('val_accuracy') > ACCURACY_THRESHOLD and epoch>60):   \n",
        "          print(\"\\nReached %2.2f%% accuracy, so stopping training!!\" %(ACCURACY_THRESHOLD*100))   \n",
        "          self.model.stop_training = True\n",
        "\n",
        "\n",
        "callbacks = myCallback()"
      ],
      "execution_count": 57,
      "outputs": []
    },
    {
      "cell_type": "code",
      "metadata": {
        "id": "8CSLNiM1NWLf",
        "outputId": "5e864c1e-bead-4132-fb6d-439c4dc1fa79",
        "colab": {
          "base_uri": "https://localhost:8080/",
          "height": 1000
        }
      },
      "source": [
        "history = model.fit(\n",
        "    train_generator, validation_data = val_generator, epochs = 100, steps_per_epoch = 20, callbacks = [callbacks])"
      ],
      "execution_count": 58,
      "outputs": [
        {
          "output_type": "stream",
          "text": [
            "Epoch 1/100\n",
            "20/20 [==============================] - 5s 227ms/step - loss: 0.5539 - accuracy: 0.7375 - val_loss: 0.7170 - val_accuracy: 0.5000\n",
            "Epoch 2/100\n",
            "20/20 [==============================] - 5s 228ms/step - loss: 0.4596 - accuracy: 0.7700 - val_loss: 0.7190 - val_accuracy: 0.5625\n",
            "Epoch 3/100\n",
            "20/20 [==============================] - 4s 217ms/step - loss: 0.3711 - accuracy: 0.8525 - val_loss: 0.8841 - val_accuracy: 0.6250\n",
            "Epoch 4/100\n",
            "20/20 [==============================] - 5s 235ms/step - loss: 0.3900 - accuracy: 0.8325 - val_loss: 0.5571 - val_accuracy: 0.6875\n",
            "Epoch 5/100\n",
            "20/20 [==============================] - 5s 232ms/step - loss: 0.3421 - accuracy: 0.8575 - val_loss: 0.6655 - val_accuracy: 0.6250\n",
            "Epoch 6/100\n",
            "20/20 [==============================] - 4s 223ms/step - loss: 0.2799 - accuracy: 0.8675 - val_loss: 0.5385 - val_accuracy: 0.7500\n",
            "Epoch 7/100\n",
            "20/20 [==============================] - 4s 222ms/step - loss: 0.2406 - accuracy: 0.9050 - val_loss: 0.4832 - val_accuracy: 0.8125\n",
            "Epoch 8/100\n",
            "20/20 [==============================] - 5s 226ms/step - loss: 0.2321 - accuracy: 0.9050 - val_loss: 0.5022 - val_accuracy: 0.7500\n",
            "Epoch 9/100\n",
            "20/20 [==============================] - 5s 229ms/step - loss: 0.2567 - accuracy: 0.9000 - val_loss: 0.5798 - val_accuracy: 0.6250\n",
            "Epoch 10/100\n",
            "20/20 [==============================] - 5s 230ms/step - loss: 0.2177 - accuracy: 0.9025 - val_loss: 0.4932 - val_accuracy: 0.8125\n",
            "Epoch 11/100\n",
            "20/20 [==============================] - 4s 221ms/step - loss: 0.2201 - accuracy: 0.9000 - val_loss: 0.5229 - val_accuracy: 0.8125\n",
            "Epoch 12/100\n",
            "20/20 [==============================] - 5s 229ms/step - loss: 0.1992 - accuracy: 0.9200 - val_loss: 0.5292 - val_accuracy: 0.6875\n",
            "Epoch 13/100\n",
            "20/20 [==============================] - 5s 234ms/step - loss: 0.1641 - accuracy: 0.9225 - val_loss: 0.5442 - val_accuracy: 0.8125\n",
            "Epoch 14/100\n",
            "20/20 [==============================] - 5s 248ms/step - loss: 0.2024 - accuracy: 0.9225 - val_loss: 0.6178 - val_accuracy: 0.6250\n",
            "Epoch 15/100\n",
            "20/20 [==============================] - 4s 225ms/step - loss: 0.1227 - accuracy: 0.9520 - val_loss: 0.5018 - val_accuracy: 0.6875\n",
            "Epoch 16/100\n",
            "20/20 [==============================] - 5s 241ms/step - loss: 0.2025 - accuracy: 0.9200 - val_loss: 0.5456 - val_accuracy: 0.6875\n",
            "Epoch 17/100\n",
            "20/20 [==============================] - 4s 224ms/step - loss: 0.2060 - accuracy: 0.9175 - val_loss: 0.4545 - val_accuracy: 0.8125\n",
            "Epoch 18/100\n",
            "20/20 [==============================] - 5s 232ms/step - loss: 0.1749 - accuracy: 0.9300 - val_loss: 0.5502 - val_accuracy: 0.7500\n",
            "Epoch 19/100\n",
            "20/20 [==============================] - 5s 237ms/step - loss: 0.1716 - accuracy: 0.9369 - val_loss: 0.4022 - val_accuracy: 0.8125\n",
            "Epoch 20/100\n",
            "20/20 [==============================] - 5s 252ms/step - loss: 0.1571 - accuracy: 0.9400 - val_loss: 0.4830 - val_accuracy: 0.7500\n",
            "Epoch 21/100\n",
            "20/20 [==============================] - 4s 220ms/step - loss: 0.1134 - accuracy: 0.9550 - val_loss: 0.4041 - val_accuracy: 0.8125\n",
            "Epoch 22/100\n",
            "20/20 [==============================] - 4s 225ms/step - loss: 0.1391 - accuracy: 0.9500 - val_loss: 0.3572 - val_accuracy: 0.8125\n",
            "Epoch 23/100\n",
            "20/20 [==============================] - 5s 232ms/step - loss: 0.1173 - accuracy: 0.9596 - val_loss: 0.4173 - val_accuracy: 0.7500\n",
            "Epoch 24/100\n",
            "20/20 [==============================] - 5s 233ms/step - loss: 0.1205 - accuracy: 0.9550 - val_loss: 0.5124 - val_accuracy: 0.7500\n",
            "Epoch 25/100\n",
            "20/20 [==============================] - 5s 247ms/step - loss: 0.1300 - accuracy: 0.9500 - val_loss: 0.5043 - val_accuracy: 0.8125\n",
            "Epoch 26/100\n",
            "20/20 [==============================] - 5s 240ms/step - loss: 0.1274 - accuracy: 0.9525 - val_loss: 0.5862 - val_accuracy: 0.7500\n",
            "Epoch 27/100\n",
            "20/20 [==============================] - 4s 224ms/step - loss: 0.1328 - accuracy: 0.9425 - val_loss: 0.4340 - val_accuracy: 0.7500\n",
            "Epoch 28/100\n",
            "20/20 [==============================] - 4s 225ms/step - loss: 0.0940 - accuracy: 0.9625 - val_loss: 0.3433 - val_accuracy: 0.8750\n",
            "Epoch 29/100\n",
            "20/20 [==============================] - 5s 242ms/step - loss: 0.1222 - accuracy: 0.9575 - val_loss: 0.4360 - val_accuracy: 0.8125\n",
            "Epoch 30/100\n",
            "20/20 [==============================] - 5s 247ms/step - loss: 0.1122 - accuracy: 0.9425 - val_loss: 0.5292 - val_accuracy: 0.7500\n",
            "Epoch 31/100\n",
            "20/20 [==============================] - 5s 226ms/step - loss: 0.0923 - accuracy: 0.9650 - val_loss: 0.5825 - val_accuracy: 0.7500\n",
            "Epoch 32/100\n",
            "20/20 [==============================] - 5s 242ms/step - loss: 0.1274 - accuracy: 0.9500 - val_loss: 0.5423 - val_accuracy: 0.7500\n",
            "Epoch 33/100\n",
            "20/20 [==============================] - 5s 240ms/step - loss: 0.1011 - accuracy: 0.9500 - val_loss: 0.4260 - val_accuracy: 0.8125\n",
            "Epoch 34/100\n",
            "20/20 [==============================] - 5s 236ms/step - loss: 0.0870 - accuracy: 0.9621 - val_loss: 0.5080 - val_accuracy: 0.8125\n",
            "Epoch 35/100\n",
            "20/20 [==============================] - 5s 241ms/step - loss: 0.1248 - accuracy: 0.9500 - val_loss: 0.5048 - val_accuracy: 0.8125\n",
            "Epoch 36/100\n",
            "20/20 [==============================] - 5s 227ms/step - loss: 0.0936 - accuracy: 0.9675 - val_loss: 0.3420 - val_accuracy: 0.8750\n",
            "Epoch 37/100\n",
            "20/20 [==============================] - 5s 237ms/step - loss: 0.0939 - accuracy: 0.9575 - val_loss: 0.3117 - val_accuracy: 0.8750\n",
            "Epoch 38/100\n",
            "20/20 [==============================] - 5s 228ms/step - loss: 0.1135 - accuracy: 0.9525 - val_loss: 0.3138 - val_accuracy: 0.8750\n",
            "Epoch 39/100\n",
            "20/20 [==============================] - 5s 247ms/step - loss: 0.0929 - accuracy: 0.9725 - val_loss: 0.5859 - val_accuracy: 0.8125\n",
            "Epoch 40/100\n",
            "20/20 [==============================] - 4s 220ms/step - loss: 0.0896 - accuracy: 0.9675 - val_loss: 0.3986 - val_accuracy: 0.8125\n",
            "Epoch 41/100\n",
            "20/20 [==============================] - 5s 229ms/step - loss: 0.1163 - accuracy: 0.9500 - val_loss: 0.3973 - val_accuracy: 0.8125\n",
            "Epoch 42/100\n",
            "20/20 [==============================] - 4s 225ms/step - loss: 0.0666 - accuracy: 0.9773 - val_loss: 0.4512 - val_accuracy: 0.8125\n",
            "Epoch 43/100\n",
            "20/20 [==============================] - 5s 229ms/step - loss: 0.0857 - accuracy: 0.9700 - val_loss: 0.2532 - val_accuracy: 0.9375\n",
            "Epoch 44/100\n",
            "20/20 [==============================] - 5s 230ms/step - loss: 0.1167 - accuracy: 0.9525 - val_loss: 0.2973 - val_accuracy: 0.8750\n",
            "Epoch 45/100\n",
            "20/20 [==============================] - 5s 237ms/step - loss: 0.0846 - accuracy: 0.9625 - val_loss: 0.2829 - val_accuracy: 0.9375\n",
            "Epoch 46/100\n",
            "20/20 [==============================] - 5s 235ms/step - loss: 0.1090 - accuracy: 0.9600 - val_loss: 0.5153 - val_accuracy: 0.8125\n",
            "Epoch 47/100\n",
            "20/20 [==============================] - 5s 229ms/step - loss: 0.0994 - accuracy: 0.9675 - val_loss: 0.2610 - val_accuracy: 0.9375\n",
            "Epoch 48/100\n",
            "20/20 [==============================] - 5s 232ms/step - loss: 0.0852 - accuracy: 0.9700 - val_loss: 0.2967 - val_accuracy: 0.8750\n",
            "Epoch 49/100\n",
            "20/20 [==============================] - 5s 228ms/step - loss: 0.0731 - accuracy: 0.9675 - val_loss: 0.2555 - val_accuracy: 0.8750\n",
            "Epoch 50/100\n",
            "20/20 [==============================] - 5s 226ms/step - loss: 0.0722 - accuracy: 0.9700 - val_loss: 0.3339 - val_accuracy: 0.8125\n",
            "Epoch 51/100\n",
            "20/20 [==============================] - 5s 232ms/step - loss: 0.0950 - accuracy: 0.9675 - val_loss: 0.3290 - val_accuracy: 0.8750\n",
            "Epoch 52/100\n",
            "20/20 [==============================] - 5s 230ms/step - loss: 0.0679 - accuracy: 0.9675 - val_loss: 0.2360 - val_accuracy: 0.9375\n",
            "Epoch 53/100\n",
            "20/20 [==============================] - 5s 227ms/step - loss: 0.0531 - accuracy: 0.9775 - val_loss: 0.2641 - val_accuracy: 0.8750\n",
            "Epoch 54/100\n",
            "20/20 [==============================] - 4s 223ms/step - loss: 0.0961 - accuracy: 0.9675 - val_loss: 0.2887 - val_accuracy: 0.8750\n",
            "Epoch 55/100\n",
            "20/20 [==============================] - 4s 218ms/step - loss: 0.0575 - accuracy: 0.9800 - val_loss: 0.3245 - val_accuracy: 0.8750\n",
            "Epoch 56/100\n",
            "20/20 [==============================] - 5s 231ms/step - loss: 0.0960 - accuracy: 0.9525 - val_loss: 0.4002 - val_accuracy: 0.8125\n",
            "Epoch 57/100\n",
            "20/20 [==============================] - 5s 230ms/step - loss: 0.0868 - accuracy: 0.9575 - val_loss: 0.2561 - val_accuracy: 0.8750\n",
            "Epoch 58/100\n",
            "20/20 [==============================] - 4s 206ms/step - loss: 0.0790 - accuracy: 0.9700 - val_loss: 0.2982 - val_accuracy: 0.9375\n",
            "Epoch 59/100\n",
            "20/20 [==============================] - 4s 215ms/step - loss: 0.0784 - accuracy: 0.9675 - val_loss: 0.4285 - val_accuracy: 0.8125\n",
            "Epoch 60/100\n",
            "20/20 [==============================] - 5s 238ms/step - loss: 0.0850 - accuracy: 0.9747 - val_loss: 0.2534 - val_accuracy: 0.9375\n",
            "Epoch 61/100\n",
            "20/20 [==============================] - 5s 235ms/step - loss: 0.0725 - accuracy: 0.9675 - val_loss: 0.2345 - val_accuracy: 0.9375\n",
            "Epoch 62/100\n",
            "20/20 [==============================] - 4s 217ms/step - loss: 0.0829 - accuracy: 0.9650 - val_loss: 0.2127 - val_accuracy: 0.9375\n",
            "Epoch 63/100\n",
            "20/20 [==============================] - 5s 227ms/step - loss: 0.0870 - accuracy: 0.9625 - val_loss: 0.2288 - val_accuracy: 0.9375\n",
            "Epoch 64/100\n",
            "20/20 [==============================] - 4s 223ms/step - loss: 0.0826 - accuracy: 0.9700 - val_loss: 0.3121 - val_accuracy: 0.8750\n",
            "Epoch 65/100\n",
            "20/20 [==============================] - 5s 237ms/step - loss: 0.1050 - accuracy: 0.9571 - val_loss: 0.2605 - val_accuracy: 0.9375\n",
            "Epoch 66/100\n",
            "20/20 [==============================] - 5s 229ms/step - loss: 0.0866 - accuracy: 0.9700 - val_loss: 0.3515 - val_accuracy: 0.8750\n",
            "Epoch 67/100\n",
            "20/20 [==============================] - 4s 214ms/step - loss: 0.0907 - accuracy: 0.9625 - val_loss: 0.2678 - val_accuracy: 0.8750\n",
            "Epoch 68/100\n",
            "20/20 [==============================] - 4s 221ms/step - loss: 0.0964 - accuracy: 0.9600 - val_loss: 0.2013 - val_accuracy: 0.9375\n",
            "Epoch 69/100\n",
            "20/20 [==============================] - 4s 209ms/step - loss: 0.0475 - accuracy: 0.9875 - val_loss: 0.2105 - val_accuracy: 0.9375\n",
            "Epoch 70/100\n",
            "20/20 [==============================] - 4s 206ms/step - loss: 0.0735 - accuracy: 0.9773 - val_loss: 0.2703 - val_accuracy: 0.8750\n",
            "Epoch 71/100\n",
            "20/20 [==============================] - 5s 231ms/step - loss: 0.0847 - accuracy: 0.9550 - val_loss: 0.2673 - val_accuracy: 0.8125\n",
            "Epoch 72/100\n",
            "20/20 [==============================] - 4s 215ms/step - loss: 0.0582 - accuracy: 0.9750 - val_loss: 0.2025 - val_accuracy: 0.9375\n",
            "Epoch 73/100\n",
            "20/20 [==============================] - ETA: 0s - loss: 0.0731 - accuracy: 0.9700\n",
            "Reached 98.00% accuracy, so stopping training!!\n",
            "20/20 [==============================] - 4s 209ms/step - loss: 0.0731 - accuracy: 0.9700 - val_loss: 0.1651 - val_accuracy: 1.0000\n"
          ],
          "name": "stdout"
        }
      ]
    },
    {
      "cell_type": "code",
      "metadata": {
        "id": "BiHs9ddZNt__",
        "outputId": "5c86bd13-59fe-4bbc-9ed0-60be7630601b",
        "colab": {
          "base_uri": "https://localhost:8080/",
          "height": 298
        }
      },
      "source": [
        "import matplotlib.pyplot as plt\n",
        "acc = history.history['accuracy']\n",
        "val_acc = history.history['val_accuracy']\n",
        "loss = history.history['loss']\n",
        "val_loss = history.history['val_loss']\n",
        "\n",
        "epochs = range(len(acc))\n",
        "\n",
        "plt.plot(epochs, acc, 'r', label='Training accuracy')\n",
        "plt.plot(epochs, val_acc, 'b', label='Validation accuracy')\n",
        "plt.title('Training and validation accuracy')\n",
        "plt.legend(loc=0)\n",
        "plt.figure()\n",
        "\n",
        "\n",
        "plt.show()"
      ],
      "execution_count": 59,
      "outputs": [
        {
          "output_type": "display_data",
          "data": {
            "image/png": "[encoded data removed]",
            "text/plain": [
              "<Figure size 432x288 with 1 Axes>"
            ]
          },
          "metadata": {
            "tags": [],
            "needs_background": "light"
          }
        },
        {
          "output_type": "display_data",
          "data": {
            "text/plain": [
              "<Figure size 432x288 with 0 Axes>"
            ]
          },
          "metadata": {
            "tags": []
          }
        }
      ]
    },
    {
      "cell_type": "code",
      "metadata": {
        "id": "a6CU29b3OREV",
        "outputId": "84e5e50c-9e2d-433f-8e00-ef427240276e",
        "colab": {
          "base_uri": "https://localhost:8080/",
          "height": 34
        }
      },
      "source": [
        "test_dir = os.path.join(base_dir, 'test')\n",
        "test_datagen = ImageDataGenerator(rescale = 1./255.)\n",
        "test_generator  = test_datagen.flow_from_directory(\n",
        "    test_dir,\n",
        "    batch_size = 20,\n",
        "    class_mode = 'binary',\n",
        "    target_size = (300,300))"
      ],
      "execution_count": 60,
      "outputs": [
        {
          "output_type": "stream",
          "text": [
            "Found 624 images belonging to 2 classes.\n"
          ],
          "name": "stdout"
        }
      ]
    },
    {
      "cell_type": "code",
      "metadata": {
        "id": "KE1xacr3J_DY",
        "outputId": "6090977b-f527-47da-e5fe-04296734191f",
        "colab": {
          "base_uri": "https://localhost:8080/",
          "height": 50
        }
      },
      "source": [
        "model.evaluate(test_generator)"
      ],
      "execution_count": 61,
      "outputs": [
        {
          "output_type": "stream",
          "text": [
            "32/32 [==============================] - 6s 186ms/step - loss: 0.4284 - accuracy: 0.8429\n"
          ],
          "name": "stdout"
        },
        {
          "output_type": "execute_result",
          "data": {
            "text/plain": [
              "[0.4284075200557709, 0.8429487347602844]"
            ]
          },
          "metadata": {
            "tags": []
          },
          "execution_count": 61
        }
      ]
    },
    {
      "cell_type": "code",
      "metadata": {
        "id": "l-VBRLizMMNd",
        "outputId": "084ce634-2ffc-469d-c520-47f3d102c8bd",
        "colab": {
          "base_uri": "https://localhost:8080/",
          "height": 655
        }
      },
      "source": [
        "model.summary()"
      ],
      "execution_count": 62,
      "outputs": [
        {
          "output_type": "stream",
          "text": [
            "Model: \"sequential_5\"\n",
            "_________________________________________________________________\n",
            "Layer (type)                 Output Shape              Param #   \n",
            "=================================================================\n",
            "conv2d_25 (Conv2D)           (None, None, None, 16)    448       \n",
            "_________________________________________________________________\n",
            "max_pooling2d_25 (MaxPooling (None, None, None, 16)    0         \n",
            "_________________________________________________________________\n",
            "conv2d_26 (Conv2D)           (None, None, None, 32)    4640      \n",
            "_________________________________________________________________\n",
            "max_pooling2d_26 (MaxPooling (None, None, None, 32)    0         \n",
            "_________________________________________________________________\n",
            "conv2d_27 (Conv2D)           (None, None, None, 32)    9248      \n",
            "_________________________________________________________________\n",
            "max_pooling2d_27 (MaxPooling (None, None, None, 32)    0         \n",
            "_________________________________________________________________\n",
            "dropout_10 (Dropout)         (None, None, None, 32)    0         \n",
            "_________________________________________________________________\n",
            "conv2d_28 (Conv2D)           (None, None, None, 64)    18496     \n",
            "_________________________________________________________________\n",
            "max_pooling2d_28 (MaxPooling (None, None, None, 64)    0         \n",
            "_________________________________________________________________\n",
            "dropout_11 (Dropout)         (None, None, None, 64)    0         \n",
            "_________________________________________________________________\n",
            "conv2d_29 (Conv2D)           (None, None, None, 64)    36928     \n",
            "_________________________________________________________________\n",
            "max_pooling2d_29 (MaxPooling (None, None, None, 64)    0         \n",
            "_________________________________________________________________\n",
            "flatten_5 (Flatten)          (None, None)              0         \n",
            "_________________________________________________________________\n",
            "dense_10 (Dense)             (None, 512)               1606144   \n",
            "_________________________________________________________________\n",
            "dense_11 (Dense)             (None, 1)                 513       \n",
            "=================================================================\n",
            "Total params: 1,676,417\n",
            "Trainable params: 1,676,417\n",
            "Non-trainable params: 0\n",
            "_________________________________________________________________\n"
          ],
          "name": "stdout"
        }
      ]
    },
    {
      "cell_type": "code",
      "metadata": {
        "id": "P1Lif6slT3V4"
      },
      "source": [
        ""
      ],
      "execution_count": null,
      "outputs": []
    }
  ]
}